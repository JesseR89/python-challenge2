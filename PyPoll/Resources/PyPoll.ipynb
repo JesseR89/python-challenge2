{
 "cells": [
  {
   "cell_type": "code",
   "execution_count": 31,
   "id": "a9215269",
   "metadata": {},
   "outputs": [],
   "source": [
    "#modules to import\n",
    "import os\n",
    "import csv \n",
    "\n",
    "#Load files\n",
    "csvpath = os.path.join('..','Resources', \"election_data.csv\")\n",
    "analysis_output = os.path.join(\"Analysis\", \"election_output.txt\")"
   ]
  },
  {
   "cell_type": "code",
   "execution_count": 39,
   "id": "3331d197",
   "metadata": {},
   "outputs": [
    {
     "name": "stdout",
     "output_type": "stream",
     "text": [
      "Election Results\n",
      "-------------------\n",
      "Total Votes: 369711\n",
      "-----------------------------\n",
      "Diana DeGette: 73.812% (272892)\n",
      "Winner {'Diana DeGette'}\n"
     ]
    }
   ],
   "source": [
    "#Declare my Variables\n",
    "total_votes = []\n",
    "candidates = set()\n",
    "votes_per_candidate = {}\n",
    "percentage_votes = {}\n",
    "\n",
    "with open(csvpath) as csvfile:\n",
    "    csvreader = csv.reader(csvfile)\n",
    "    header = next(csvreader)\n",
    "    election = list(csvreader)\n",
    "    \n",
    "    \n",
    "total_votes = len(election)\n",
    "#get the total number of votes each candidate won\n",
    "\n",
    "votes_candidate = {} #Set it to a dictionary, because i want output to be \"candidate: votes\"\n",
    "#create a for loop to calculate the number of votes each candidate received\n",
    "for row in election:\n",
    "    candidate = row[2]\n",
    "    candidates.add(candidate) #.add will add elements to the list\n",
    "    votes_candidate[candidate] = votes_candidate.get(candidate,0) + 1\n",
    "    \n",
    "    #calculate the percentage of votes per candidate\n",
    "    for candidate, votes in votes_candidate.items():\n",
    "        percentage = (votes / total_votes) * 100\n",
    "        percentage_votes[candidate] = percentage \n",
    "    #I want to use the max function because it returns the highest number in an iterable, in this case, number of votes/candidate    \n",
    "    winner = max(votes_candidate, key=votes_candidate.get)\n",
    "    \n",
    "for candidate in candidates:\n",
    "    votes = votes_candidate[candidate]\n",
    "    percentage = percentage_votes[candidate]\n",
    "            \n",
    "print('Election Results')\n",
    "print('-------------------')\n",
    "print(f'Total Votes: {total_votes}')\n",
    "print('-----------------------------')\n",
    "print(f'{candidate}: {percentage:.3f}% ({votes})')\n",
    "print('Winner', {winner})\n",
    " \n",
    "   "
   ]
  },
  {
   "cell_type": "code",
   "execution_count": null,
   "id": "360fba17",
   "metadata": {},
   "outputs": [],
   "source": [
    "\n"
   ]
  },
  {
   "cell_type": "code",
   "execution_count": null,
   "id": "cd680fb5",
   "metadata": {},
   "outputs": [],
   "source": []
  }
 ],
 "metadata": {
  "kernelspec": {
   "display_name": "Python 3 (ipykernel)",
   "language": "python",
   "name": "python3"
  },
  "language_info": {
   "codemirror_mode": {
    "name": "ipython",
    "version": 3
   },
   "file_extension": ".py",
   "mimetype": "text/x-python",
   "name": "python",
   "nbconvert_exporter": "python",
   "pygments_lexer": "ipython3",
   "version": "3.11.5"
  }
 },
 "nbformat": 4,
 "nbformat_minor": 5
}
